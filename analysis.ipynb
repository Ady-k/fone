{
 "cells": [
  {
   "cell_type": "code",
   "execution_count": 17,
   "id": "8fa6874e-28a6-47a5-ad8b-d90f36d9a111",
   "metadata": {},
   "outputs": [],
   "source": [
    "import json \n",
    "import os\n",
    "\n",
    "import numpy as np\n",
    "import pandas as pd\n",
    "import plotly as py\n",
    "\n",
    "from collections import En\n",
    "\n",
    "from typing import List, Optional"
   ]
  },
  {
   "cell_type": "markdown",
   "id": "49efa527-1626-46cf-8ca5-d510dc41fec7",
   "metadata": {},
   "source": [
    "### What are the features I want for my model? \n",
    "\n",
    "1. Starting grid relative to teammate \n",
    "2. Quali pace relative to team mate \n",
    "3. Average lap time compared to team mate \n",
    "4. meidan delta of season group average finish position \n",
    "5. Median overtakes \n",
    "6. Median penalties \n",
    "7. Median spins or issues (how to get this information?)"
   ]
  },
  {
   "cell_type": "code",
   "execution_count": 2,
   "id": "554c3e80-72cf-4b53-b699-b94e335a9355",
   "metadata": {},
   "outputs": [],
   "source": [
    "DATA_DIR = './data/'\n",
    "ARCHIVE_DIR = './archive/'"
   ]
  },
  {
   "cell_type": "markdown",
   "id": "5c4264a0-6a77-4d50-a8e3-397d57fadb21",
   "metadata": {},
   "source": [
    "## Cleaning the data (Prep)"
   ]
  },
  {
   "cell_type": "code",
   "execution_count": 8,
   "id": "5ab1c5b4-ff5c-4b1f-bb41-1607471efcba",
   "metadata": {},
   "outputs": [],
   "source": [
    "quali_df = pd.read_csv(DATA_DIR+'season_qualifying.csv')\n",
    "results_df = pd.read_csv(DATA_DIR+'season_results.csv')\n",
    "races_df = pd.read_csv(DATA_DIR+'season_races.csv')\n",
    "\n",
    "result_status_df = pd.read_csv(ARCHIVE_DIR+'status.csv')"
   ]
  },
  {
   "cell_type": "code",
   "execution_count": 4,
   "id": "b67c5d66-35d5-4a40-bb94-0f9756cb78e8",
   "metadata": {},
   "outputs": [
    {
     "data": {
      "text/html": [
       "<div>\n",
       "<style scoped>\n",
       "    .dataframe tbody tr th:only-of-type {\n",
       "        vertical-align: middle;\n",
       "    }\n",
       "\n",
       "    .dataframe tbody tr th {\n",
       "        vertical-align: top;\n",
       "    }\n",
       "\n",
       "    .dataframe thead th {\n",
       "        text-align: right;\n",
       "    }\n",
       "</style>\n",
       "<table border=\"1\" class=\"dataframe\">\n",
       "  <thead>\n",
       "    <tr style=\"text-align: right;\">\n",
       "      <th></th>\n",
       "      <th>qualifyId</th>\n",
       "      <th>raceId</th>\n",
       "      <th>driverId</th>\n",
       "      <th>constructorId</th>\n",
       "      <th>number</th>\n",
       "      <th>position</th>\n",
       "      <th>q1</th>\n",
       "      <th>q2</th>\n",
       "      <th>q3</th>\n",
       "    </tr>\n",
       "  </thead>\n",
       "  <tbody>\n",
       "    <tr>\n",
       "      <th>0</th>\n",
       "      <td>8735</td>\n",
       "      <td>1052</td>\n",
       "      <td>830</td>\n",
       "      <td>9</td>\n",
       "      <td>33</td>\n",
       "      <td>1</td>\n",
       "      <td>1:30.499</td>\n",
       "      <td>1:30.318</td>\n",
       "      <td>1:28.997</td>\n",
       "    </tr>\n",
       "    <tr>\n",
       "      <th>1</th>\n",
       "      <td>8736</td>\n",
       "      <td>1052</td>\n",
       "      <td>1</td>\n",
       "      <td>131</td>\n",
       "      <td>44</td>\n",
       "      <td>2</td>\n",
       "      <td>1:30.617</td>\n",
       "      <td>1:30.085</td>\n",
       "      <td>1:29.385</td>\n",
       "    </tr>\n",
       "    <tr>\n",
       "      <th>2</th>\n",
       "      <td>8737</td>\n",
       "      <td>1052</td>\n",
       "      <td>822</td>\n",
       "      <td>131</td>\n",
       "      <td>77</td>\n",
       "      <td>3</td>\n",
       "      <td>1:31.200</td>\n",
       "      <td>1:30.186</td>\n",
       "      <td>1:29.586</td>\n",
       "    </tr>\n",
       "    <tr>\n",
       "      <th>3</th>\n",
       "      <td>8738</td>\n",
       "      <td>1052</td>\n",
       "      <td>844</td>\n",
       "      <td>6</td>\n",
       "      <td>16</td>\n",
       "      <td>4</td>\n",
       "      <td>1:30.691</td>\n",
       "      <td>1:30.010</td>\n",
       "      <td>1:29.678</td>\n",
       "    </tr>\n",
       "    <tr>\n",
       "      <th>4</th>\n",
       "      <td>8739</td>\n",
       "      <td>1052</td>\n",
       "      <td>842</td>\n",
       "      <td>213</td>\n",
       "      <td>10</td>\n",
       "      <td>5</td>\n",
       "      <td>1:30.848</td>\n",
       "      <td>1:30.513</td>\n",
       "      <td>1:29.809</td>\n",
       "    </tr>\n",
       "  </tbody>\n",
       "</table>\n",
       "</div>"
      ],
      "text/plain": [
       "   qualifyId  raceId  driverId  constructorId  number  position        q1  \\\n",
       "0       8735    1052       830              9      33         1  1:30.499   \n",
       "1       8736    1052         1            131      44         2  1:30.617   \n",
       "2       8737    1052       822            131      77         3  1:31.200   \n",
       "3       8738    1052       844              6      16         4  1:30.691   \n",
       "4       8739    1052       842            213      10         5  1:30.848   \n",
       "\n",
       "         q2        q3  \n",
       "0  1:30.318  1:28.997  \n",
       "1  1:30.085  1:29.385  \n",
       "2  1:30.186  1:29.586  \n",
       "3  1:30.010  1:29.678  \n",
       "4  1:30.513  1:29.809  "
      ]
     },
     "execution_count": 4,
     "metadata": {},
     "output_type": "execute_result"
    }
   ],
   "source": [
    "quali_df.head()"
   ]
  },
  {
   "cell_type": "code",
   "execution_count": 64,
   "id": "6d3f8ff3-9367-4f4b-ac6f-f4620e3c4e75",
   "metadata": {
    "tags": []
   },
   "outputs": [],
   "source": [
    "def conv_race_status(status: str) -> bool:\n",
    "    \"\"\"\n",
    "    Convert the race status to either Finished, DriverError\n",
    "    LapDown or DNF \n",
    "    \"\"\"\n",
    "    if status == 'Finished':\n",
    "        return 'Finished'\n",
    "    elif status in ['Disqualified', 'Accident', 'Collision', 'Spun off']:\n",
    "        return 'DriverError'\n",
    "    elif status.startswith('+'):\n",
    "        laps_down = int(x.split('+')[1].split(' ')[0])\n",
    "        if laps_down < 5:\n",
    "            return 'LapDown'\n",
    "    return 'DNF'\n",
    "\n"
   ]
  },
  {
   "cell_type": "code",
   "execution_count": 50,
   "id": "316397d8-cf50-413e-ae16-cf3ffe21be8c",
   "metadata": {},
   "outputs": [],
   "source": [
    "col_key_pair = ['raceId', 'driverId']\n",
    "data_df = results_df.groupby(by=col_key_pair).count().reset_index()[col_key_pair]"
   ]
  },
  {
   "cell_type": "code",
   "execution_count": 55,
   "id": "0506d2ad-7d35-4da9-af18-36725ac5fb3f",
   "metadata": {},
   "outputs": [],
   "source": [
    "data_df['key'] = data_df.apply(lambda row: f'{row[0]}_{row[1]}', axis=1)"
   ]
  },
  {
   "cell_type": "code",
   "execution_count": 56,
   "id": "14fcffab-bda2-4673-9a72-ab0a4f66b9d1",
   "metadata": {},
   "outputs": [
    {
     "data": {
      "text/html": [
       "<div>\n",
       "<style scoped>\n",
       "    .dataframe tbody tr th:only-of-type {\n",
       "        vertical-align: middle;\n",
       "    }\n",
       "\n",
       "    .dataframe tbody tr th {\n",
       "        vertical-align: top;\n",
       "    }\n",
       "\n",
       "    .dataframe thead th {\n",
       "        text-align: right;\n",
       "    }\n",
       "</style>\n",
       "<table border=\"1\" class=\"dataframe\">\n",
       "  <thead>\n",
       "    <tr style=\"text-align: right;\">\n",
       "      <th></th>\n",
       "      <th>raceId</th>\n",
       "      <th>driverId</th>\n",
       "      <th>key</th>\n",
       "    </tr>\n",
       "  </thead>\n",
       "  <tbody>\n",
       "    <tr>\n",
       "      <th>0</th>\n",
       "      <td>1051</td>\n",
       "      <td>1</td>\n",
       "      <td>1051_1</td>\n",
       "    </tr>\n",
       "    <tr>\n",
       "      <th>1</th>\n",
       "      <td>1051</td>\n",
       "      <td>4</td>\n",
       "      <td>1051_4</td>\n",
       "    </tr>\n",
       "    <tr>\n",
       "      <th>2</th>\n",
       "      <td>1051</td>\n",
       "      <td>8</td>\n",
       "      <td>1051_8</td>\n",
       "    </tr>\n",
       "    <tr>\n",
       "      <th>3</th>\n",
       "      <td>1051</td>\n",
       "      <td>20</td>\n",
       "      <td>1051_20</td>\n",
       "    </tr>\n",
       "    <tr>\n",
       "      <th>4</th>\n",
       "      <td>1051</td>\n",
       "      <td>815</td>\n",
       "      <td>1051_815</td>\n",
       "    </tr>\n",
       "  </tbody>\n",
       "</table>\n",
       "</div>"
      ],
      "text/plain": [
       "   raceId  driverId       key\n",
       "0    1051         1    1051_1\n",
       "1    1051         4    1051_4\n",
       "2    1051         8    1051_8\n",
       "3    1051        20   1051_20\n",
       "4    1051       815  1051_815"
      ]
     },
     "execution_count": 56,
     "metadata": {},
     "output_type": "execute_result"
    }
   ],
   "source": [
    "data_df.head()"
   ]
  },
  {
   "cell_type": "code",
   "execution_count": 57,
   "id": "b1614768-9636-482a-9015-487e5cac8d75",
   "metadata": {},
   "outputs": [],
   "source": [
    "results_cols = ['key', 'constructorId', 'number', 'positionOrder', \n",
    "                'milliseconds', 'rank', 'fastestLap', \n",
    "                'fastestLapSpeed', 'statusId']\n",
    "\n",
    "results_df['key'] = results_df.apply(lambda row: f'{row[1]}_{row[2]}', axis=1)"
   ]
  },
  {
   "cell_type": "code",
   "execution_count": 62,
   "id": "3f422795-d36c-4413-a7ae-11828c67d6db",
   "metadata": {},
   "outputs": [],
   "source": [
    "merged  = data_df.merge(results_df[results_cols], how='inner', on='key')"
   ]
  },
  {
   "cell_type": "code",
   "execution_count": 69,
   "id": "d63cd068-83bd-4f28-b19e-85b003eb9781",
   "metadata": {},
   "outputs": [],
   "source": [
    "merged = merged.merge(result_status_df, how='inner', on='statusId')"
   ]
  },
  {
   "cell_type": "code",
   "execution_count": 91,
   "id": "50847ba8-ebb4-4b98-bfbf-5e6fc9b4a0ef",
   "metadata": {},
   "outputs": [],
   "source": [
    "merged['statusResult'] = merged['status'].apply(conv_race_status)"
   ]
  },
  {
   "cell_type": "markdown",
   "id": "822c30f0-0a16-4c1a-b5e1-50260a4ec23e",
   "metadata": {},
   "source": [
    "### Ignore results where driver had to retire due to technical issues "
   ]
  },
  {
   "cell_type": "code",
   "execution_count": 95,
   "id": "6825e043-50a2-4320-bdec-e307629e2f76",
   "metadata": {},
   "outputs": [
    {
     "data": {
      "text/plain": [
       "(31, 13)"
      ]
     },
     "execution_count": 95,
     "metadata": {},
     "output_type": "execute_result"
    }
   ],
   "source": [
    "merged[merged['statusResult'] == 'DNF'].shape"
   ]
  },
  {
   "cell_type": "code",
   "execution_count": 97,
   "id": "51aff4c2-92b8-461d-9b03-dd78a7b0d15a",
   "metadata": {},
   "outputs": [],
   "source": [
    "merged.drop(index=merged[merged['statusResult'] == 'DNF'].index, inplace=True)"
   ]
  },
  {
   "cell_type": "code",
   "execution_count": null,
   "id": "0841a8ca-1ff4-4442-9a36-b31ee14783f6",
   "metadata": {},
   "outputs": [],
   "source": []
  }
 ],
 "metadata": {
  "kernelspec": {
   "display_name": "Python 3 (ipykernel)",
   "language": "python",
   "name": "python3"
  },
  "language_info": {
   "codemirror_mode": {
    "name": "ipython",
    "version": 3
   },
   "file_extension": ".py",
   "mimetype": "text/x-python",
   "name": "python",
   "nbconvert_exporter": "python",
   "pygments_lexer": "ipython3",
   "version": "3.9.6"
  }
 },
 "nbformat": 4,
 "nbformat_minor": 5
}
