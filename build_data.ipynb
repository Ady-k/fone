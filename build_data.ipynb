{
 "cells": [
  {
   "cell_type": "code",
   "execution_count": 64,
   "id": "4a927d98-beec-42ff-a7f0-90516043132e",
   "metadata": {},
   "outputs": [],
   "source": [
    "import os\n",
    "\n",
    "from typing import List\n",
    "\n",
    "import numpy as np\n",
    "import pandas as pd"
   ]
  },
  {
   "cell_type": "code",
   "execution_count": 61,
   "id": "feb452f8-e350-4fa4-b46d-b96dca6e50a0",
   "metadata": {},
   "outputs": [],
   "source": [
    "SEASON_YEAR = 2021"
   ]
  },
  {
   "cell_type": "markdown",
   "id": "a74d5daf-d839-4624-9a8e-a650f5d9390e",
   "metadata": {
    "tags": []
   },
   "source": [
    "## Filter on the races in the season and curate the data"
   ]
  },
  {
   "cell_type": "code",
   "execution_count": 21,
   "id": "6d8c414a-f3a1-476a-8615-e4619d7f4111",
   "metadata": {},
   "outputs": [],
   "source": [
    "races = pd.read_csv('./archive/races.csv')\n",
    "\n",
    "races_in_season = pd.DataFrame(races[races['year'] == SEASON_YEAR].reset_index(drop=True))\n",
    "races_in_season.to_csv('./data/races.csv', index=False)"
   ]
  },
  {
   "cell_type": "code",
   "execution_count": 36,
   "id": "19c11765-62a0-4987-b005-b975cd5f361d",
   "metadata": {},
   "outputs": [],
   "source": [
    "def scope_to_season(filename: str, year: int):\n",
    "    df = pd.read_csv('./archive/' + filename)\n",
    "    if 'year' not in df.columns:\n",
    "        return\n",
    "    to_save_df = pd.DataFrame(df[df['year'] == year].reset_index(drop=True))\n",
    "    to_save_df.to_csv(f'./data/season_{filename}', index=False)"
   ]
  },
  {
   "cell_type": "code",
   "execution_count": 24,
   "id": "87cc523c-06b3-401e-a1ea-31df57575d02",
   "metadata": {},
   "outputs": [],
   "source": [
    "files = os.listdir('archive/')"
   ]
  },
  {
   "cell_type": "code",
   "execution_count": 37,
   "id": "f22bac55-4884-4d52-965e-8e256ddbb9f5",
   "metadata": {},
   "outputs": [],
   "source": [
    "for fname in files:\n",
    "    if fname.startswith('.'):\n",
    "        continue\n",
    "    \n",
    "    scope_to_season(fname, SEASON_YEAR)"
   ]
  },
  {
   "cell_type": "code",
   "execution_count": 29,
   "id": "ab3b795f-d854-4d31-a31d-eb5c2cc4f64a",
   "metadata": {},
   "outputs": [],
   "source": [
    "season_races_ids = races_in_season.raceId.to_list()"
   ]
  },
  {
   "cell_type": "code",
   "execution_count": 40,
   "id": "80d44a0b-11d2-4a35-820f-cf3dc665541e",
   "metadata": {},
   "outputs": [],
   "source": [
    "all_quali = pd.read_csv('./archive/qualifying.csv')\n",
    "season_quali = all_quali[all_quali.raceId.apply(lambda x: x in season_races_ids)]\n",
    "season_quali.reset_index(drop=True).to_csv('./data/season_qualifying.csv', index=False)"
   ]
  },
  {
   "cell_type": "code",
   "execution_count": 45,
   "id": "e07a9eb3-5f6a-4293-a1b7-6a68e6433c3d",
   "metadata": {},
   "outputs": [],
   "source": [
    "def filter_for_ids(filename: str, id_col: str, ids: List[int]):\n",
    "    try:\n",
    "        all_df = pd.read_csv(f'./archive/{filename}')\n",
    "    except FileNotFoundError:\n",
    "        print('Supplied file does not exist in the archive')\n",
    "        return \n",
    "    \n",
    "    if id_col not in all_df.columns:\n",
    "        return \n",
    "    for_drivers_df = all_df[all_df[id_col].apply(lambda x: x in ids)]\n",
    "    for_drivers_df.reset_index(drop=True).to_csv(f'./data/season_{filename}', index=False)"
   ]
  },
  {
   "cell_type": "code",
   "execution_count": 47,
   "id": "07e379b1-763d-4884-9714-1783bf17eea5",
   "metadata": {},
   "outputs": [],
   "source": [
    "for fname in ['lap_times.csv', 'pit_stops.csv', 'results.csv'\n",
    "           'driver_standings.csv', 'constructor_standings.csv']:\n",
    "    filter_for_ids(fname, 'raceId', season_races_ids)"
   ]
  },
  {
   "cell_type": "markdown",
   "id": "66039663-091c-4b51-9314-4fce32e1faad",
   "metadata": {},
   "source": [
    "## Get the drivers "
   ]
  },
  {
   "cell_type": "code",
   "execution_count": 51,
   "id": "fe974929-f022-4045-b50b-7e797799fad6",
   "metadata": {},
   "outputs": [],
   "source": [
    "all_resulst = pd.read_csv('./archive/results.csv')\n",
    "results_in_season = all_resulst[all_resulst.raceId.apply(lambda x: x in season_races_ids)]\n",
    "drivers_in_season = results_in_season.driverId.unique()\n",
    "len(drivers_in_season)"
   ]
  },
  {
   "cell_type": "code",
   "execution_count": 63,
   "id": "182fece4-e5a2-45e9-ae2c-ec5c7a8dcbc1",
   "metadata": {},
   "outputs": [],
   "source": [
    "all_drivers = pd.read_csv('./archive/drivers.csv')\n",
    "all_driver_standings = pd.read_csv('./archive/driver_standings.csv')"
   ]
  },
  {
   "cell_type": "code",
   "execution_count": 66,
   "id": "b62a6614-3050-4498-b945-8a8497a2d07e",
   "metadata": {},
   "outputs": [],
   "source": [
    "filter_for_ids('drivers.csv', 'driverId', drivers_in_season)"
   ]
  },
  {
   "cell_type": "code",
   "execution_count": 67,
   "id": "a10a2b2f-0760-4122-9b48-6a3c68468e1f",
   "metadata": {},
   "outputs": [],
   "source": [
    "filter_for_ids('driver_standings.csv', 'driverId', drivers_in_season)"
   ]
  },
  {
   "cell_type": "code",
   "execution_count": null,
   "id": "5c6c1199-42d1-4027-9189-ba83a711c966",
   "metadata": {},
   "outputs": [],
   "source": []
  }
 ],
 "metadata": {
  "kernelspec": {
   "display_name": "Python 3 (ipykernel)",
   "language": "python",
   "name": "python3"
  },
  "language_info": {
   "codemirror_mode": {
    "name": "ipython",
    "version": 3
   },
   "file_extension": ".py",
   "mimetype": "text/x-python",
   "name": "python",
   "nbconvert_exporter": "python",
   "pygments_lexer": "ipython3",
   "version": "3.9.6"
  }
 },
 "nbformat": 4,
 "nbformat_minor": 5
}
