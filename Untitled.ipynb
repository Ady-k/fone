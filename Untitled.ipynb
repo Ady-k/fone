{
 "cells": [
  {
   "cell_type": "code",
   "execution_count": 1,
   "id": "8fa6874e-28a6-47a5-ad8b-d90f36d9a111",
   "metadata": {},
   "outputs": [],
   "source": [
    "import json \n",
    "import os\n",
    "\n",
    "import numpy as np\n",
    "import pandas as pd\n",
    "import plotly as py"
   ]
  },
  {
   "cell_type": "markdown",
   "id": "49efa527-1626-46cf-8ca5-d510dc41fec7",
   "metadata": {},
   "source": [
    "### What are the features I want for my model? \n",
    "\n",
    "1. Starting grid relative to teammate \n",
    "2. Quali pace relative to team mate \n",
    "3. "
   ]
  }
 ],
 "metadata": {
  "kernelspec": {
   "display_name": "Python 3 (ipykernel)",
   "language": "python",
   "name": "python3"
  },
  "language_info": {
   "codemirror_mode": {
    "name": "ipython",
    "version": 3
   },
   "file_extension": ".py",
   "mimetype": "text/x-python",
   "name": "python",
   "nbconvert_exporter": "python",
   "pygments_lexer": "ipython3",
   "version": "3.9.6"
  }
 },
 "nbformat": 4,
 "nbformat_minor": 5
}
